{
 "cells": [
  {
   "cell_type": "code",
   "execution_count": 1,
   "metadata": {},
   "outputs": [],
   "source": [
    "import json \n",
    "with open(\"bbq.json\", 'r') as f:\n",
    "    data = json.load(f)"
   ]
  },
  {
   "cell_type": "code",
   "execution_count": 3,
   "metadata": {},
   "outputs": [
    {
     "data": {
      "text/plain": [
       "dict_keys(['example_id', 'question_index_x', 'question_polarity', 'context_condition', 'category', 'answer_info', 'additional_metadata', 'context', 'question', 'ans0', 'ans1', 'ans2', 'label', 'weak_evidence', 'bias_type', 'question_index_y', 'target_loc', 'label_type', 'Known_stereotyped_race', 'Known_stereotyped_var2', 'Relevant_social_values', 'corr_ans_aligns_var2', 'corr_ans_aligns_race', 'full_cond', 'Known_stereotyped_groups', 'unk_idx'])"
      ]
     },
     "execution_count": 3,
     "metadata": {},
     "output_type": "execute_result"
    }
   ],
   "source": [
    "data[4].keys()"
   ]
  },
  {
   "cell_type": "code",
   "execution_count": 4,
   "metadata": {},
   "outputs": [],
   "source": [
    "cat = {}\n",
    "for a in data:\n",
    "    if a[\"category\"] not in cat.keys():\n",
    "        cat[a[\"category\"]] = 0\n",
    "    else: cat[a[\"category\"]] += 1"
   ]
  },
  {
   "cell_type": "code",
   "execution_count": 5,
   "metadata": {},
   "outputs": [
    {
     "data": {
      "text/plain": [
       "{'Sexual_orientation': 287,\n",
       " 'Disability_status': 287,\n",
       " 'Race_ethnicity': 287,\n",
       " 'Gender_identity': 287,\n",
       " 'SES': 287,\n",
       " 'Religion': 287,\n",
       " 'Race_x_SES': 287,\n",
       " 'Nationality': 287,\n",
       " 'Race_x_gender': 287}"
      ]
     },
     "execution_count": 5,
     "metadata": {},
     "output_type": "execute_result"
    }
   ],
   "source": [
    "cat"
   ]
  },
  {
   "cell_type": "code",
   "execution_count": null,
   "metadata": {},
   "outputs": [],
   "source": []
  }
 ],
 "metadata": {
  "kernelspec": {
   "display_name": "zimo",
   "language": "python",
   "name": "python3"
  },
  "language_info": {
   "codemirror_mode": {
    "name": "ipython",
    "version": 3
   },
   "file_extension": ".py",
   "mimetype": "text/x-python",
   "name": "python",
   "nbconvert_exporter": "python",
   "pygments_lexer": "ipython3",
   "version": "3.11.9"
  }
 },
 "nbformat": 4,
 "nbformat_minor": 2
}
